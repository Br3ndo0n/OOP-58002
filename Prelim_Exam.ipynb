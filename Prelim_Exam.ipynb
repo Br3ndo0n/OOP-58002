{
  "nbformat": 4,
  "nbformat_minor": 0,
  "metadata": {
    "colab": {
      "name": "Prelim Exam.ipynb",
      "provenance": [],
      "authorship_tag": "ABX9TyMtVR1h+P7nF5tnwNhnhnow",
      "include_colab_link": true
    },
    "kernelspec": {
      "name": "python3",
      "display_name": "Python 3"
    },
    "language_info": {
      "name": "python"
    }
  },
  "cells": [
    {
      "cell_type": "markdown",
      "metadata": {
        "id": "view-in-github",
        "colab_type": "text"
      },
      "source": [
        "<a href=\"https://colab.research.google.com/github/Br3ndo0n/OOP-58002/blob/main/Prelim_Exam.ipynb\" target=\"_parent\"><img src=\"https://colab.research.google.com/assets/colab-badge.svg\" alt=\"Open In Colab\"/></a>"
      ]
    },
    {
      "cell_type": "markdown",
      "source": [
        "#PRELIM EXAM"
      ],
      "metadata": {
        "id": "ZYef5xoRFgRJ"
      }
    },
    {
      "cell_type": "code",
      "source": [
        "class Person:\n",
        "  def __init__(self,student,number,age,school,course):\n",
        "    self.student = student\n",
        "    self.number = number\n",
        "    self.age = age\n",
        "    self.school = school\n",
        "    self.course = course\n",
        "  \n",
        "  def myFunction(self):\n",
        "    print(\"I am \",self.student,\"my age is\",self.age, \"my student number is\",self.number, \"studying in\", self.school, \"and I am taking\", self.course)\n",
        "\n",
        "p1= Person(\"Campaña, Brendon Gio C.\", 202113816, 18, \"Adamson University\", \"Computer Engineering\")\n",
        "p1.myFunction()"
      ],
      "metadata": {
        "colab": {
          "base_uri": "https://localhost:8080/"
        },
        "id": "73ZoGNEJGYm5",
        "outputId": "06a6f76e-d569-418f-b023-a3c868119928"
      },
      "execution_count": 5,
      "outputs": [
        {
          "output_type": "stream",
          "name": "stdout",
          "text": [
            "I am  Campaña, Brendon Gio C. my age is 18 my student number is 202113816 studying in Adamson University and I am taking Computer Engineering\n"
          ]
        }
      ]
    }
  ]
}