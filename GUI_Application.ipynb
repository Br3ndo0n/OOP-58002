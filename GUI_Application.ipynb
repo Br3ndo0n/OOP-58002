{
  "nbformat": 4,
  "nbformat_minor": 0,
  "metadata": {
    "colab": {
      "name": "GUI Application.ipynb",
      "provenance": [],
      "authorship_tag": "ABX9TyP3TewbwbJc6m7ceNEA5NcX",
      "include_colab_link": true
    },
    "kernelspec": {
      "name": "python3",
      "display_name": "Python 3"
    },
    "language_info": {
      "name": "python"
    }
  },
  "cells": [
    {
      "cell_type": "markdown",
      "metadata": {
        "id": "view-in-github",
        "colab_type": "text"
      },
      "source": [
        "<a href=\"https://colab.research.google.com/github/Br3ndo0n/OOP-58002/blob/main/GUI_Application.ipynb\" target=\"_parent\"><img src=\"https://colab.research.google.com/assets/colab-badge.svg\" alt=\"Open In Colab\"/></a>"
      ]
    },
    {
      "cell_type": "markdown",
      "source": [
        "**Create a Python Program that displays the grades of students in OOP**"
      ],
      "metadata": {
        "id": "T8rY6lgAxLs4"
      }
    },
    {
      "cell_type": "code",
      "source": [
        "#@title Student's Grades in Object Oriented Programming\n",
        "\n",
        "Student_name = \"Enter the student's name\" #@param {type:\"string\"}\n",
        "Prelim = 100 #@param {type: \"number\"}\n",
        "Midterm = 100 #@param {type: \"number\"}\n",
        "Finals = 100 #@param{type: \"number\"}\n",
        "Semestral = (Prelim*0.30 + Midterm*0.30 + Finals*0.40)\n",
        "\n",
        "print(\"Student's Name: \" + Student_name)\n",
        "print(\"Semestral Grade of the student: \" + str(Semestral))"
      ],
      "metadata": {
        "colab": {
          "base_uri": "https://localhost:8080/"
        },
        "id": "FselRixIxKyb",
        "outputId": "f69b3bd3-7cf0-4f96-9985-622866cb0520"
      },
      "execution_count": 1,
      "outputs": [
        {
          "output_type": "stream",
          "name": "stdout",
          "text": [
            "Student's Name: Enter the student's name\n",
            "Semestral Grade of the student: 100.0\n"
          ]
        }
      ]
    },
    {
      "cell_type": "code",
      "source": [
        "#@title Gender\n",
        "\n",
        "Gender = \"Male\" #@param{\"Male\", \"Female\"}\n",
        "Birthdate = \"2003-04-04\" #@param{type: \"date\"}\n",
        "\n",
        "print(\"My birthdate is \" + Birthdate)\n",
        "print(\"My Gender is \" + Gender) "
      ],
      "metadata": {
        "colab": {
          "base_uri": "https://localhost:8080/"
        },
        "id": "fpffp1-czSLE",
        "outputId": "cdb5f3a6-0113-409c-c2b3-26fe55c744e9"
      },
      "execution_count": 3,
      "outputs": [
        {
          "output_type": "stream",
          "name": "stdout",
          "text": [
            "My birthdate is 2003-04-04\n",
            "My Gender is Male\n"
          ]
        }
      ]
    }
  ]
}