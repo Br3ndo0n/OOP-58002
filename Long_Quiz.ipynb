{
  "nbformat": 4,
  "nbformat_minor": 0,
  "metadata": {
    "colab": {
      "name": "Long Quiz.ipynb",
      "provenance": [],
      "authorship_tag": "ABX9TyOiDTsHM0qxS45+hwazeDFt",
      "include_colab_link": true
    },
    "kernelspec": {
      "name": "python3",
      "display_name": "Python 3"
    },
    "language_info": {
      "name": "python"
    }
  },
  "cells": [
    {
      "cell_type": "markdown",
      "metadata": {
        "id": "view-in-github",
        "colab_type": "text"
      },
      "source": [
        "<a href=\"https://colab.research.google.com/github/Br3ndo0n/OOP-58002/blob/main/Long_Quiz.ipynb\" target=\"_parent\"><img src=\"https://colab.research.google.com/assets/colab-badge.svg\" alt=\"Open In Colab\"/></a>"
      ]
    },
    {
      "cell_type": "markdown",
      "source": [
        "#Long Quiz"
      ],
      "metadata": {
        "id": "txeP-44pXOob"
      }
    },
    {
      "cell_type": "code",
      "source": [
        "class Temperature:\n",
        "  def __init__(self, celsius):\n",
        "    self.celsius = celsius\n",
        "\n",
        "  def fah(self):\n",
        "    fahrenheit = (cel*9/5)+32\n",
        "    \n",
        "print(\"Enter Temperature in Celsius: \")\n",
        "celsius = float(input())\n",
        "print(\"\\nCelsius Temperature in Fahrenheit: \", fah)"
      ],
      "metadata": {
        "colab": {
          "base_uri": "https://localhost:8080/"
        },
        "id": "O03L-oVXtSRc",
        "outputId": "cae5e0c3-4374-4eeb-c5ca-0626eb76a819"
      },
      "execution_count": 33,
      "outputs": [
        {
          "output_type": "stream",
          "name": "stdout",
          "text": [
            "Enter Temperature in Celsius: \n",
            "74\n",
            "\n",
            "Celsius Temperature in Fahrenheit:  64.44444444444444\n"
          ]
        }
      ]
    }
  ]
}