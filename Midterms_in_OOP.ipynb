{
  "nbformat": 4,
  "nbformat_minor": 0,
  "metadata": {
    "colab": {
      "name": "Midterms in OOP.ipynb",
      "provenance": [],
      "authorship_tag": "ABX9TyPMxyGg+sKX8TO1Z8Fx2obf",
      "include_colab_link": true
    },
    "kernelspec": {
      "name": "python3",
      "display_name": "Python 3"
    },
    "language_info": {
      "name": "python"
    }
  },
  "cells": [
    {
      "cell_type": "markdown",
      "metadata": {
        "id": "view-in-github",
        "colab_type": "text"
      },
      "source": [
        "<a href=\"https://colab.research.google.com/github/Br3ndo0n/OOP-58002/blob/main/Midterms_in_OOP.ipynb\" target=\"_parent\"><img src=\"https://colab.research.google.com/assets/colab-badge.svg\" alt=\"Open In Colab\"/></a>"
      ]
    },
    {
      "cell_type": "markdown",
      "source": [
        "**Program 1**"
      ],
      "metadata": {
        "id": "SldEmSGnjkLr"
      }
    },
    {
      "cell_type": "code",
      "execution_count": 1,
      "metadata": {
        "colab": {
          "base_uri": "https://localhost:8080/"
        },
        "id": "IAbHFi84fRA_",
        "outputId": "074c909d-d89a-46fd-d4d8-a84e978f432a"
      },
      "outputs": [
        {
          "output_type": "stream",
          "name": "stdout",
          "text": [
            "Enter the temperature in Celsius: 34\n",
            "307.15 Kelvin\n",
            "93.2 Fahrenheit\n",
            "Enter the temperature in Farenheit: 25\n",
            "-3.888888888888889 Celsius\n",
            "Enter the temperature in Kelvin: 32\n",
            "-241.14999999999998 Celsius\n"
          ]
        }
      ],
      "source": [
        "def main():\n",
        "    class TemperatureConversion:\n",
        "        def __init__(self, temp=1):\n",
        "            self._temp = temp\n",
        "\n",
        "    class CelsiusToFahrenheit(TemperatureConversion):\n",
        "        def conversion(self):\n",
        "            return (self._temp * 9) / 5 + 32\n",
        "\n",
        "    class CelsiusToKelvin(TemperatureConversion):\n",
        "        def conversion(self):\n",
        "            return self._temp + 273.15\n",
        "\n",
        "    class FahrenheitToCelsius(TemperatureConversion):\n",
        "        def conversion(self):\n",
        "            return (self._temp - 32) * 5 / 9\n",
        "\n",
        "    class KelvinToCelsius(TemperatureConversion):\n",
        "        def conversion(self):\n",
        "            return (self._temp - 273.15)\n",
        "\n",
        "    tempInCelsius = float(input(\"Enter the temperature in Celsius: \"))\n",
        "    convert = CelsiusToKelvin(tempInCelsius)\n",
        "    print(str(convert.conversion()) + \" Kelvin\")\n",
        "    convert = CelsiusToFahrenheit(tempInCelsius)\n",
        "    print(str(convert.conversion()) + \" Fahrenheit\")\n",
        "    tempInCelsius = float(input(\"Enter the temperature in Farenheit: \"))\n",
        "    convert = FahrenheitToCelsius(tempInCelsius)\n",
        "    print(str(convert.conversion()) + \" Celsius\")\n",
        "    tempInCelsius = float(input(\"Enter the temperature in Kelvin: \"))\n",
        "    convert = KelvinToCelsius(tempInCelsius)\n",
        "    print(str(convert.conversion()) + \" Celsius\")\n",
        "\n",
        "\n",
        "main()"
      ]
    },
    {
      "cell_type": "markdown",
      "source": [
        "Program 2"
      ],
      "metadata": {
        "id": "HabalNpcqwjP"
      }
    },
    {
      "cell_type": "code",
      "source": [
        "from tkinter import *\n",
        "window=Tk()\n",
        "\n",
        "def fullname():\n",
        "    name['text'] = 'myname'\n",
        "\n",
        "label = Label(text='Enter your Fullname:', fg='Black')\n",
        "label.place(x=30, y=50)\n",
        "\n",
        "button = Button(text='Click to display your Fullname', fg='Black', command=fullname)\n",
        "button.place(x=30, y=100)\n",
        "\n",
        "entername = Entry(textvariable='myname', bd='5')\n",
        "entername.place(x=230, y=50)\n",
        "\n",
        "name = Entry(text='This is my name', bd='5')\n",
        "name.place(x=230, y=100)\n",
        "\n",
        "window.title('Midterm in OOP')\n",
        "window.geometry(\"500x200+10+10\")\n",
        "window.mainloop()"
      ],
      "metadata": {
        "id": "RdOyXkSarEig"
      },
      "execution_count": null,
      "outputs": []
    }
  ]
}