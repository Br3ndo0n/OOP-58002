{
  "nbformat": 4,
  "nbformat_minor": 0,
  "metadata": {
    "colab": {
      "name": "Fundamentals of Python.ipynb",
      "provenance": [],
      "collapsed_sections": [],
      "authorship_tag": "ABX9TyN36qBbKN/zsqNk7tFtcQrr",
      "include_colab_link": true
    },
    "kernelspec": {
      "name": "python3",
      "display_name": "Python 3"
    },
    "language_info": {
      "name": "python"
    }
  },
  "cells": [
    {
      "cell_type": "markdown",
      "metadata": {
        "id": "view-in-github",
        "colab_type": "text"
      },
      "source": [
        "<a href=\"https://colab.research.google.com/github/Br3ndo0n/OOP-58002/blob/main/Fundamentals_of_Python.ipynb\" target=\"_parent\"><img src=\"https://colab.research.google.com/assets/colab-badge.svg\" alt=\"Open In Colab\"/></a>"
      ]
    },
    {
      "cell_type": "code",
      "execution_count": 14,
      "metadata": {
        "id": "6xT41cL4ocTC"
      },
      "outputs": [],
      "source": [
        "if 5 < 2:\n",
        " print(yes)"
      ]
    },
    {
      "cell_type": "code",
      "source": [
        "x =\"sally\"\n",
        "\n",
        "a = 0\n",
        "a,b,c=0,1,2\n",
        "\n",
        "print(x)\n",
        "print(a)\n",
        "print(b)\n",
        "print(c)"
      ],
      "metadata": {
        "colab": {
          "base_uri": "https://localhost:8080/"
        },
        "id": "oHbBWje_oyX9",
        "outputId": "72bcde5d-125f-40ec-c91b-6a16c96d5989"
      },
      "execution_count": 5,
      "outputs": [
        {
          "output_type": "stream",
          "name": "stdout",
          "text": [
            "sally\n",
            "0\n",
            "1\n",
            "2\n"
          ]
        }
      ]
    },
    {
      "cell_type": "code",
      "source": [
        "d = 4\n",
        "d = int(4)\n",
        "print(type(d))"
      ],
      "metadata": {
        "colab": {
          "base_uri": "https://localhost:8080/"
        },
        "id": "Tl1wOhh6pNTE",
        "outputId": "5ace0590-2924-4324-a0ae-d3706b41d23a"
      },
      "execution_count": 7,
      "outputs": [
        {
          "output_type": "stream",
          "name": "stdout",
          "text": [
            "<class 'int'>\n"
          ]
        }
      ]
    },
    {
      "cell_type": "code",
      "source": [
        "#y = \"Ana\"\n",
        "#print(y)\n",
        "\n",
        "y =\"Ana\"\n",
        "print(y)"
      ],
      "metadata": {
        "colab": {
          "base_uri": "https://localhost:8080/"
        },
        "id": "0MCQizNcplUb",
        "outputId": "602d1380-670d-4947-d6eb-24affc34e0b6"
      },
      "execution_count": 8,
      "outputs": [
        {
          "output_type": "stream",
          "name": "stdout",
          "text": [
            "Ana\n"
          ]
        }
      ]
    },
    {
      "cell_type": "markdown",
      "source": [
        "**Multiple Variables with One Value**"
      ],
      "metadata": {
        "id": "_E2N_svKp5Wy"
      }
    },
    {
      "cell_type": "code",
      "source": [
        "#x = \"Tony\"\n",
        "k=l=m=\"Tony\"\n",
        "print(k)\n",
        "print(l)\n",
        "print(m)\n",
        "print(k,l,m)"
      ],
      "metadata": {
        "colab": {
          "base_uri": "https://localhost:8080/"
        },
        "id": "VQ3_SbaJqBjy",
        "outputId": "96749b54-21d7-4814-b235-eccb1faa82b9"
      },
      "execution_count": 9,
      "outputs": [
        {
          "output_type": "stream",
          "name": "stdout",
          "text": [
            "Tony\n",
            "Tony\n",
            "Tony\n",
            "Tony Tony Tony\n"
          ]
        }
      ]
    },
    {
      "cell_type": "code",
      "source": [
        "print(\"Python Programming is fun\")\n",
        "\n",
        "h = \"fun\"\n",
        "p = (\"Python programming is \"+ h)\n",
        "print(p+\" \"+h)"
      ],
      "metadata": {
        "colab": {
          "base_uri": "https://localhost:8080/"
        },
        "id": "6eQpLq5cqUaR",
        "outputId": "69c46ca6-627c-4271-d86b-eed2d48a5c5d"
      },
      "execution_count": 13,
      "outputs": [
        {
          "output_type": "stream",
          "name": "stdout",
          "text": [
            "Python Programming is fun\n",
            "Python programming is fun fun\n"
          ]
        }
      ]
    },
    {
      "cell_type": "markdown",
      "source": [
        "**Arithmetic Operations**\n"
      ],
      "metadata": {
        "id": "XIxe2OUXrvcg"
      }
    },
    {
      "cell_type": "code",
      "source": [
        "print(c+d) #c=2, d=4\n",
        "print(d-c)\n",
        "print(d*c)\n",
        "print(d/c)\n",
        "print(d%c)"
      ],
      "metadata": {
        "colab": {
          "base_uri": "https://localhost:8080/"
        },
        "id": "dro9L6pgr43B",
        "outputId": "1e1e5948-a3c7-433e-fbba-b646fe5ad012"
      },
      "execution_count": 15,
      "outputs": [
        {
          "output_type": "stream",
          "name": "stdout",
          "text": [
            "6\n",
            "2\n",
            "8\n",
            "2.0\n",
            "0\n"
          ]
        }
      ]
    },
    {
      "cell_type": "markdown",
      "source": [
        "**Assignment Operators**"
      ],
      "metadata": {
        "id": "MeHu9TuEsVeb"
      }
    },
    {
      "cell_type": "code",
      "source": [
        "q=10\n",
        "print(q+5)\n",
        "\n",
        "print(q)"
      ],
      "metadata": {
        "colab": {
          "base_uri": "https://localhost:8080/"
        },
        "id": "M6AJxxj4scRB",
        "outputId": "c6e2fbcd-95b6-46d3-a91d-d3e962884abd"
      },
      "execution_count": 16,
      "outputs": [
        {
          "output_type": "stream",
          "name": "stdout",
          "text": [
            "15\n",
            "10\n"
          ]
        }
      ]
    },
    {
      "cell_type": "markdown",
      "source": [
        "**Boolean Logic**"
      ],
      "metadata": {
        "id": "UG15ukjNsmep"
      }
    },
    {
      "cell_type": "code",
      "source": [
        "s = 10\n",
        "print(s^2)\n",
        "print(s|2)"
      ],
      "metadata": {
        "colab": {
          "base_uri": "https://localhost:8080/"
        },
        "id": "C0D5hArWstai",
        "outputId": "fa7cc6df-044e-48a8-ccec-0dfb97871f2c"
      },
      "execution_count": 17,
      "outputs": [
        {
          "output_type": "stream",
          "name": "stdout",
          "text": [
            "8\n",
            "10\n"
          ]
        }
      ]
    },
    {
      "cell_type": "markdown",
      "source": [
        "**Comparison Operators**"
      ],
      "metadata": {
        "id": "pG491WlMtMA9"
      }
    },
    {
      "cell_type": "code",
      "source": [
        "print(s>q)\n",
        "print(s==s)\n",
        "print(q==q)"
      ],
      "metadata": {
        "colab": {
          "base_uri": "https://localhost:8080/"
        },
        "id": "OdXjUOUltQ4o",
        "outputId": "547a533c-b9d4-4faf-8e14-61f02a31ec73"
      },
      "execution_count": 19,
      "outputs": [
        {
          "output_type": "stream",
          "name": "stdout",
          "text": [
            "False\n",
            "True\n",
            "True\n"
          ]
        }
      ]
    },
    {
      "cell_type": "markdown",
      "source": [
        "**Logical Operators**"
      ],
      "metadata": {
        "id": "ceMHZ6w8tqur"
      }
    },
    {
      "cell_type": "code",
      "source": [
        "s>q and s==s\n",
        "s>q or s==s\n",
        "\n",
        "print(s>q and s==s)\n",
        "print(s>q or s==s)"
      ],
      "metadata": {
        "colab": {
          "base_uri": "https://localhost:8080/"
        },
        "id": "STPWaoNitxew",
        "outputId": "f9600edd-d762-4fe0-adc6-1f31ae71a9f3"
      },
      "execution_count": 20,
      "outputs": [
        {
          "output_type": "stream",
          "name": "stdout",
          "text": [
            "False\n",
            "True\n"
          ]
        }
      ]
    },
    {
      "cell_type": "markdown",
      "source": [
        "**Identity Operators**"
      ],
      "metadata": {
        "id": "1ReRcgxnuFrR"
      }
    },
    {
      "cell_type": "code",
      "source": [
        "s is q \n",
        "print(s is not q)"
      ],
      "metadata": {
        "colab": {
          "base_uri": "https://localhost:8080/"
        },
        "id": "ieABqHBhuNQx",
        "outputId": "81bbbdf1-7dc7-4e9b-edb6-5041433006f7"
      },
      "execution_count": 21,
      "outputs": [
        {
          "output_type": "stream",
          "name": "stdout",
          "text": [
            "False\n"
          ]
        }
      ]
    },
    {
      "cell_type": "markdown",
      "source": [
        "**Bitwise Operator Shift Right**"
      ],
      "metadata": {
        "id": "KwuQs7VvuT6u"
      }
    },
    {
      "cell_type": "code",
      "source": [
        "u = 2\n",
        "print(u<<1)"
      ],
      "metadata": {
        "colab": {
          "base_uri": "https://localhost:8080/"
        },
        "id": "ipZ_x3yguauZ",
        "outputId": "7af7bfab-663f-4963-891b-62d4adf7acee"
      },
      "execution_count": 22,
      "outputs": [
        {
          "output_type": "stream",
          "name": "stdout",
          "text": [
            "4\n"
          ]
        }
      ]
    }
  ]
}