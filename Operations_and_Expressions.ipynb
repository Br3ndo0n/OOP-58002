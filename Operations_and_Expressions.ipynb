{
  "nbformat": 4,
  "nbformat_minor": 0,
  "metadata": {
    "colab": {
      "name": "Operations and Expressions.ipynb",
      "provenance": [],
      "authorship_tag": "ABX9TyM1HQuU7YUjrnPYkSQ6fDzl",
      "include_colab_link": true
    },
    "kernelspec": {
      "name": "python3",
      "display_name": "Python 3"
    },
    "language_info": {
      "name": "python"
    }
  },
  "cells": [
    {
      "cell_type": "markdown",
      "metadata": {
        "id": "view-in-github",
        "colab_type": "text"
      },
      "source": [
        "<a href=\"https://colab.research.google.com/github/Br3ndo0n/OOP-58002/blob/main/Operations_and_Expressions.ipynb\" target=\"_parent\"><img src=\"https://colab.research.google.com/assets/colab-badge.svg\" alt=\"Open In Colab\"/></a>"
      ]
    },
    {
      "cell_type": "markdown",
      "source": [
        "**Boolean Operators**"
      ],
      "metadata": {
        "id": "YR0jvIhV9GuF"
      }
    },
    {
      "cell_type": "code",
      "execution_count": 26,
      "metadata": {
        "id": "jL5M2yarc2t3",
        "colab": {
          "base_uri": "https://localhost:8080/"
        },
        "outputId": "a1f06a0a-7240-49ab-d882-820a0b37c397"
      },
      "outputs": [
        {
          "output_type": "stream",
          "name": "stdout",
          "text": [
            "True\n",
            "False\n"
          ]
        }
      ],
      "source": [
        "a = 7\n",
        "b = 6\n",
        "\n",
        "print(10>9)\n",
        "print(10<9)"
      ]
    },
    {
      "cell_type": "markdown",
      "source": [
        "**Bool () function**"
      ],
      "metadata": {
        "id": "xM0DQ6_b9q-0"
      }
    },
    {
      "cell_type": "code",
      "source": [
        "#if true\n",
        "print(bool(\"Brendon\"))\n",
        "print(bool(1))\n",
        "\n",
        "#if false\n",
        "print(bool(0))\n",
        "print(bool(False))"
      ],
      "metadata": {
        "colab": {
          "base_uri": "https://localhost:8080/"
        },
        "id": "2dsIFhGU907g",
        "outputId": "c443578e-98a2-4673-fe80-d7b686597597"
      },
      "execution_count": 27,
      "outputs": [
        {
          "output_type": "stream",
          "name": "stdout",
          "text": [
            "True\n",
            "True\n",
            "False\n",
            "False\n"
          ]
        }
      ]
    },
    {
      "cell_type": "markdown",
      "source": [
        "**Functions can return to Boolean**"
      ],
      "metadata": {
        "id": "GPnEM1LFBklE"
      }
    },
    {
      "cell_type": "code",
      "source": [
        "def my_Function():\n",
        "  return True   \n",
        "\n",
        "print (my_Function())"
      ],
      "metadata": {
        "colab": {
          "base_uri": "https://localhost:8080/"
        },
        "id": "5SGVnl2sBr1o",
        "outputId": "650e4f44-c676-4a22-d7ec-f5038ad2b55a"
      },
      "execution_count": 28,
      "outputs": [
        {
          "output_type": "stream",
          "name": "stdout",
          "text": [
            "True\n"
          ]
        }
      ]
    },
    {
      "cell_type": "code",
      "source": [
        "if my_Function():\n",
        "   print (\"True\")\n",
        "else:\n",
        "   print (\"False\")"
      ],
      "metadata": {
        "colab": {
          "base_uri": "https://localhost:8080/"
        },
        "id": "BuD7dUnSDMN1",
        "outputId": "ae483d2a-6154-449d-c25c-01d64fddabef"
      },
      "execution_count": 29,
      "outputs": [
        {
          "output_type": "stream",
          "name": "stdout",
          "text": [
            "True\n"
          ]
        }
      ]
    },
    {
      "cell_type": "markdown",
      "source": [
        "**Python Operators**"
      ],
      "metadata": {
        "id": "-PTh2KpcDCk9"
      }
    },
    {
      "cell_type": "code",
      "source": [
        "print(15+5)\n",
        "print(15-5)\n",
        "print(15/3)\n",
        "print(15*5)\n",
        "print(15%5)\n",
        "print(15/3)\n",
        "print(15**5)"
      ],
      "metadata": {
        "colab": {
          "base_uri": "https://localhost:8080/"
        },
        "id": "smz7EGOiDHMs",
        "outputId": "ae0f5513-09e3-4072-ba2d-a3e4d3acd419"
      },
      "execution_count": 30,
      "outputs": [
        {
          "output_type": "stream",
          "name": "stdout",
          "text": [
            "20\n",
            "10\n",
            "5.0\n",
            "75\n",
            "0\n",
            "5.0\n",
            "759375\n"
          ]
        }
      ]
    },
    {
      "cell_type": "markdown",
      "source": [
        "**Bitwise Operators**"
      ],
      "metadata": {
        "id": "NcpR7SbgEsiP"
      }
    },
    {
      "cell_type": "code",
      "source": [
        "c = 60 #Binary 0011 1100\n",
        "d = 13 #Binary 0000 1101\n",
        "\n",
        "c&d\n",
        "print(c|d)\n",
        "print(c^d)\n",
        "print(d<<2)"
      ],
      "metadata": {
        "colab": {
          "base_uri": "https://localhost:8080/"
        },
        "id": "ZHNTjnYoEwV1",
        "outputId": "bcc16a60-4ae1-4d57-d188-dfa6e1f69c5c"
      },
      "execution_count": 31,
      "outputs": [
        {
          "output_type": "stream",
          "name": "stdout",
          "text": [
            "61\n",
            "49\n",
            "52\n"
          ]
        }
      ]
    },
    {
      "cell_type": "markdown",
      "source": [
        "**Logical Operators**"
      ],
      "metadata": {
        "id": "J4SUJWsaFoZe"
      }
    },
    {
      "cell_type": "code",
      "source": [
        "h = True\n",
        "g = False\n",
        "h and g \n",
        "h or g\n",
        "not (h or g)"
      ],
      "metadata": {
        "colab": {
          "base_uri": "https://localhost:8080/"
        },
        "id": "VbaZjRJRFt_d",
        "outputId": "cc5d30b4-62b4-4dec-dfb7-6f0ad56f7cd1"
      },
      "execution_count": 32,
      "outputs": [
        {
          "output_type": "execute_result",
          "data": {
            "text/plain": [
              "False"
            ]
          },
          "metadata": {},
          "execution_count": 32
        }
      ]
    },
    {
      "cell_type": "markdown",
      "source": [
        "**Application 2**"
      ],
      "metadata": {
        "id": "gXansW7lGKTO"
      }
    },
    {
      "cell_type": "code",
      "source": [
        "x = 100\n",
        "x += 3 #Same as x = x + 3, x = 100 + 3 = 103\n",
        "print(x)"
      ],
      "metadata": {
        "colab": {
          "base_uri": "https://localhost:8080/"
        },
        "id": "3xQvdMmWGOBo",
        "outputId": "72c503f4-1d62-4eb9-ee3a-0c31f4f319b8"
      },
      "execution_count": 33,
      "outputs": [
        {
          "output_type": "stream",
          "name": "stdout",
          "text": [
            "103\n"
          ]
        }
      ]
    },
    {
      "cell_type": "markdown",
      "source": [
        "**Identity Operators**"
      ],
      "metadata": {
        "id": "AyU2VcRNGlQn"
      }
    },
    {
      "cell_type": "code",
      "source": [
        "h is 1\n",
        "h is not 1 "
      ],
      "metadata": {
        "colab": {
          "base_uri": "https://localhost:8080/"
        },
        "id": "moqjWVORGou-",
        "outputId": "baeb62ba-3978-42d0-9ecc-fd931591a194"
      },
      "execution_count": 34,
      "outputs": [
        {
          "output_type": "execute_result",
          "data": {
            "text/plain": [
              "True"
            ]
          },
          "metadata": {},
          "execution_count": 34
        }
      ]
    },
    {
      "cell_type": "markdown",
      "source": [
        "#Control Structure\n",
        "\n",
        "\n"
      ],
      "metadata": {
        "id": "Y8jnazRqG7L_"
      }
    },
    {
      "cell_type": "markdown",
      "source": [
        "**If Statement**"
      ],
      "metadata": {
        "id": "zPzCMvMgHE23"
      }
    },
    {
      "cell_type": "code",
      "source": [
        "if a>b:\n",
        "  print(\"a is greater than b\")"
      ],
      "metadata": {
        "colab": {
          "base_uri": "https://localhost:8080/"
        },
        "id": "Szzs5XTJHAUf",
        "outputId": "26e5e209-03d3-4a70-ca0d-21807adc188d"
      },
      "execution_count": 35,
      "outputs": [
        {
          "output_type": "stream",
          "name": "stdout",
          "text": [
            "a is greater than b\n"
          ]
        }
      ]
    },
    {
      "cell_type": "markdown",
      "source": [
        "**Elif Statement**"
      ],
      "metadata": {
        "id": "hUPYTGwrHkgH"
      }
    },
    {
      "cell_type": "code",
      "source": [
        "if a>b:\n",
        "  print(\"a is greater than b\")\n",
        "elif a<b:\n",
        "  print(\"a is lesser than b\")"
      ],
      "metadata": {
        "colab": {
          "base_uri": "https://localhost:8080/"
        },
        "id": "B8csGSD4HoWm",
        "outputId": "ec92c3a0-d692-4437-bfad-34226a5e5d26"
      },
      "execution_count": 36,
      "outputs": [
        {
          "output_type": "stream",
          "name": "stdout",
          "text": [
            "a is greater than b\n"
          ]
        }
      ]
    },
    {
      "cell_type": "markdown",
      "source": [
        "**Else Statement**"
      ],
      "metadata": {
        "id": "fMPf3j7VIgOY"
      }
    },
    {
      "cell_type": "code",
      "source": [
        "a = 10\n",
        "b = 10\n",
        "\n",
        "if a>b:\n",
        "  print(\"a is greater than b\")\n",
        "elif a<b:\n",
        "  print(\"a is lesser than b\")\n",
        "else:\n",
        "  print(\"a is equal to b\")"
      ],
      "metadata": {
        "colab": {
          "base_uri": "https://localhost:8080/"
        },
        "id": "tEMwLxU3IkUf",
        "outputId": "081f7954-adb5-4c9b-bab6-ee322d25d503"
      },
      "execution_count": 37,
      "outputs": [
        {
          "output_type": "stream",
          "name": "stdout",
          "text": [
            "a is equal to b\n"
          ]
        }
      ]
    },
    {
      "cell_type": "markdown",
      "source": [
        "**Short Hand If Statement**"
      ],
      "metadata": {
        "id": "WlOjTAE7Ju4M"
      }
    },
    {
      "cell_type": "code",
      "source": [
        "if a==b: print(\"a is equal to b\")"
      ],
      "metadata": {
        "colab": {
          "base_uri": "https://localhost:8080/"
        },
        "id": "qCHgq1H2JyuB",
        "outputId": "eff0a6b3-ed77-4a5f-b2ac-036428ce4e91"
      },
      "execution_count": 39,
      "outputs": [
        {
          "output_type": "stream",
          "name": "stdout",
          "text": [
            "a is equal to b\n"
          ]
        }
      ]
    },
    {
      "cell_type": "markdown",
      "source": [
        "**Short hand if...else statement**"
      ],
      "metadata": {
        "id": "URRL_c82KQqY"
      }
    },
    {
      "cell_type": "code",
      "source": [
        "a = 10 \n",
        "b = 9\n",
        "print(\"a is greater than b\") if a>b else print(\"b is greater than a\")"
      ],
      "metadata": {
        "colab": {
          "base_uri": "https://localhost:8080/"
        },
        "id": "M4fbqfaSKYRY",
        "outputId": "bd9d3d9a-1d76-4c0f-a101-69e18ae5c08c"
      },
      "execution_count": 40,
      "outputs": [
        {
          "output_type": "stream",
          "name": "stdout",
          "text": [
            "a is greater than b\n"
          ]
        }
      ]
    },
    {
      "cell_type": "markdown",
      "source": [
        "**And**"
      ],
      "metadata": {
        "id": "qpmUx5xjKzz5"
      }
    },
    {
      "cell_type": "code",
      "source": [
        "if a<b and b==b:\n",
        "  print(\"both conditions are True\")"
      ],
      "metadata": {
        "id": "8_-KCeRMK2CZ"
      },
      "execution_count": 43,
      "outputs": []
    },
    {
      "cell_type": "markdown",
      "source": [
        "**Or**"
      ],
      "metadata": {
        "id": "0XIV6auXLCpT"
      }
    },
    {
      "cell_type": "code",
      "source": [
        "if a<b and b==b:\n",
        "  print(\"The Condition is True\") "
      ],
      "metadata": {
        "id": "h9ARLxJMLHDg"
      },
      "execution_count": 44,
      "outputs": []
    },
    {
      "cell_type": "markdown",
      "source": [
        "**Nested If Statement**"
      ],
      "metadata": {
        "id": "9IPSUdTlLTMi"
      }
    },
    {
      "cell_type": "code",
      "source": [
        "x = int(input())\n",
        "\n",
        "if x>10:\n",
        "  print(\"x is above 10\")\n",
        "  if x>20:\n",
        "    print(\"x is above 20\")\n",
        "    if x>30:\n",
        "      print(\"x is above 30\")\n",
        "      if x>40:\n",
        "        print(\"x is above 40\")\n",
        "        if x>50:\n",
        "          print(\"x is above 50\")\n",
        "        else:\n",
        "            print(\"but not above 50\")"
      ],
      "metadata": {
        "colab": {
          "base_uri": "https://localhost:8080/"
        },
        "id": "yBdTbqoPLXBg",
        "outputId": "0a28bea2-39ce-4c1f-b3f6-b41b5272bd27"
      },
      "execution_count": 49,
      "outputs": [
        {
          "output_type": "stream",
          "name": "stdout",
          "text": [
            "30\n",
            "x is above 10\n",
            "x is above 20\n"
          ]
        }
      ]
    },
    {
      "cell_type": "markdown",
      "source": [
        "**For Loop Statement**"
      ],
      "metadata": {
        "id": "XlxTaJyRMQCE"
      }
    },
    {
      "cell_type": "code",
      "source": [
        "week = ['Sunday', 'Monday', 'Tuesday', 'Wednesday', 'Thursday', 'Friday', 'Saturday']\n",
        "\n",
        "for x in week:\n",
        "  print(x)"
      ],
      "metadata": {
        "colab": {
          "base_uri": "https://localhost:8080/"
        },
        "id": "HK-LSp5MNWeD",
        "outputId": "28688f7d-34d7-44d0-b53a-1ae698292205"
      },
      "execution_count": 50,
      "outputs": [
        {
          "output_type": "stream",
          "name": "stdout",
          "text": [
            "Sunday\n",
            "Monday\n",
            "Tuesday\n",
            "Wednesday\n",
            "Thursday\n",
            "Friday\n",
            "Saturday\n"
          ]
        }
      ]
    },
    {
      "cell_type": "markdown",
      "source": [
        "**The Break Statement**"
      ],
      "metadata": {
        "id": "YMSBnZxCN9id"
      }
    },
    {
      "cell_type": "code",
      "source": [
        "#to display only Friday using break statement\n",
        "\n",
        "for x in week:\n",
        "  if x == \"Friday\":\n",
        "    break\n",
        "print(x)"
      ],
      "metadata": {
        "colab": {
          "base_uri": "https://localhost:8080/"
        },
        "id": "o0pKm4pUOA-R",
        "outputId": "10d9fbca-ce33-4791-d5c7-3ebeced2faa6"
      },
      "execution_count": 51,
      "outputs": [
        {
          "output_type": "stream",
          "name": "stdout",
          "text": [
            "Friday\n"
          ]
        }
      ]
    },
    {
      "cell_type": "markdown",
      "source": [
        "**While Statement**"
      ],
      "metadata": {
        "id": "rp1PsK0fOkA0"
      }
    },
    {
      "cell_type": "code",
      "source": [
        "i =1\n",
        "while i < 6:\n",
        "  print(i)\n",
        "  i += 1 #same as i = i + 1"
      ],
      "metadata": {
        "colab": {
          "base_uri": "https://localhost:8080/"
        },
        "id": "2nU_ypRIOm_z",
        "outputId": "a692dabb-ae98-41d2-9162-c070aca5e4a1"
      },
      "execution_count": 52,
      "outputs": [
        {
          "output_type": "stream",
          "name": "stdout",
          "text": [
            "1\n",
            "2\n",
            "3\n",
            "4\n",
            "5\n"
          ]
        }
      ]
    },
    {
      "cell_type": "markdown",
      "source": [
        "**Application 3: Create a Program that displays no.3 using break statement**"
      ],
      "metadata": {
        "id": "j9lotzsePG-R"
      }
    },
    {
      "cell_type": "code",
      "source": [
        "i = 1\n",
        "while i < 6:\n",
        "    if i==3:\n",
        "      break\n",
        "    i += 1\n",
        "print(i) "
      ],
      "metadata": {
        "colab": {
          "base_uri": "https://localhost:8080/"
        },
        "id": "CtNcY9xjPS2L",
        "outputId": "e8ac1619-10a9-4431-bcfa-7f74d3d0eb75"
      },
      "execution_count": 58,
      "outputs": [
        {
          "output_type": "stream",
          "name": "stdout",
          "text": [
            "3\n"
          ]
        }
      ]
    }
  ]
}