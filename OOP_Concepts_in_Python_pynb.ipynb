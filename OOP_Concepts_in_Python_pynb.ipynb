{
  "nbformat": 4,
  "nbformat_minor": 0,
  "metadata": {
    "colab": {
      "name": "OOP Concepts in Python.pynb",
      "provenance": [],
      "authorship_tag": "ABX9TyN8w+R24nxWdn+lv/jwofcZ",
      "include_colab_link": true
    },
    "kernelspec": {
      "name": "python3",
      "display_name": "Python 3"
    },
    "language_info": {
      "name": "python"
    }
  },
  "cells": [
    {
      "cell_type": "markdown",
      "metadata": {
        "id": "view-in-github",
        "colab_type": "text"
      },
      "source": [
        "<a href=\"https://colab.research.google.com/github/Br3ndo0n/OOP-58002/blob/main/OOP_Concepts_in_Python_pynb.ipynb\" target=\"_parent\"><img src=\"https://colab.research.google.com/assets/colab-badge.svg\" alt=\"Open In Colab\"/></a>"
      ]
    },
    {
      "cell_type": "markdown",
      "source": [
        "**CREATE A CLASS**"
      ],
      "metadata": {
        "id": "rhwyxEzvgJIG"
      }
    },
    {
      "cell_type": "code",
      "source": [
        "class Car:\n",
        "  pass"
      ],
      "metadata": {
        "id": "NLLmyYohhccu"
      },
      "execution_count": 1,
      "outputs": []
    },
    {
      "cell_type": "markdown",
      "source": [
        "**CREATE AN OBJECT**"
      ],
      "metadata": {
        "id": "zK7Voa4fhc6V"
      }
    },
    {
      "cell_type": "code",
      "source": [
        "  class Car:\n",
        "    def __init__(self, name, color): #all classes have function called __init__.\n",
        "       self.name = name                 # attribute names of class named Car\n",
        "       self.color = color \n",
        "\n",
        "def description(self):\n",
        "   return \"The\" + self.name + \"has a color\" + self.color\n",
        "\n",
        "def show(self):\n",
        "   print(\"The\" + self.name + \"has a color\" + self.color)\n",
        "\n",
        " car1 = Car (\"Honda City\",  \"Red\")\n",
        " car1.show()"
      ],
      "metadata": {
        "id": "eQCg8W3Phl49"
      },
      "execution_count": 75,
      "outputs": []
    },
    {
      "cell_type": "markdown",
      "source": [
        "**OBJECT METHODS**"
      ],
      "metadata": {
        "id": "5zf4HOnwhmHt"
      }
    },
    {
      "cell_type": "code",
      "source": [
        "class Person:\n",
        "  def __init__(self, name, age):\n",
        "    self.name = name\n",
        "    self.age = age\n",
        "\n",
        "  def myFunction(self):\n",
        "    print(\"Hello! My name is \", self.name)\n",
        "    print(\"I am \", self.age)\n",
        "  \n",
        "  p1 = Person(\"Brendon\", 18)\n",
        "  p1.myFunction()"
      ],
      "metadata": {
        "colab": {
          "base_uri": "https://localhost:8080/"
        },
        "id": "1OX_UkW0i74O",
        "outputId": "e734b5a8-3c52-488a-8781-43670688ecd7"
      },
      "execution_count": 64,
      "outputs": [
        {
          "output_type": "stream",
          "name": "stdout",
          "text": [
            "Hello! My name is  Brendon\n",
            "I am  18\n"
          ]
        }
      ]
    },
    {
      "cell_type": "markdown",
      "source": [
        "**MODIFY AN OBJECT PROPERTY**"
      ],
      "metadata": {
        "id": "0wWi7YXfiIhl"
      }
    },
    {
      "cell_type": "code",
      "source": [
        "car1.name = \"Mitsubishi\"\n",
        "print(car1.name)\n",
        "\n",
        "car1.color = \"blue\"\n",
        "car1.show()"
      ],
      "metadata": {
        "id": "X_uUl-Fg72HU"
      },
      "execution_count": null,
      "outputs": []
    },
    {
      "cell_type": "markdown",
      "source": [
        "**APPLICATION 1: Write a python program that computes for the area and perimeter of a square and create a class name Square with side as its attribute** "
      ],
      "metadata": {
        "id": "gqchkjIBiOcl"
      }
    },
    {
      "cell_type": "code",
      "source": [
        "#Area of a Square = s*S\n",
        "#Perimeter of a Square = 4*s = s+s+s+s\n",
        "\n",
        "class Square:\n",
        "  def __init__(self, side):\n",
        "    self.side = side\n",
        "\n",
        "  def Area(self):\n",
        "    return self.side * self.side\n",
        "\n",
        "  def Perimeter(self):\n",
        "    return 4*(self.side)\n",
        "\n",
        "  def display(self):\n",
        "    print(\"The area of a square is\", self.Area())\n",
        "    print(\"The perimeter of a square is\", self.Perimeter())\n",
        "\n",
        "sq1 = Square(2)\n",
        "sq1.display()\n",
        "  "
      ],
      "metadata": {
        "colab": {
          "base_uri": "https://localhost:8080/"
        },
        "id": "1s5LYN5Ji7F3",
        "outputId": "1726ebeb-f5a8-465b-953d-6f87c6754c1a"
      },
      "execution_count": 59,
      "outputs": [
        {
          "output_type": "stream",
          "name": "stdout",
          "text": [
            "The area of a square is 4\n",
            "The perimeter of a square is 8\n"
          ]
        }
      ]
    },
    {
      "cell_type": "markdown",
      "source": [
        "**APLICATION 2- Write a Python program that displays your student no. and Fullname (Surname, First Name, MI) and create a class name OOP_58002**"
      ],
      "metadata": {
        "id": "9yo7-Uycw8uu"
      }
    },
    {
      "cell_type": "code",
      "source": [
        "class Person:\n",
        " def __init__(self,student,number):\n",
        "  self.student = student\n",
        "  self.number = number\n",
        "\n",
        " def myFunction(self):\n",
        "  print(\"I am\",self.student,\"and my student number is\", self.number)\n",
        "  print(\"Section - OOP_58002\")\n",
        "\n",
        "\n",
        "p1= Person(\"Campaña, Brendon Gio C.\", 202113816)\n",
        "p1.myFunction()"
      ],
      "metadata": {
        "colab": {
          "base_uri": "https://localhost:8080/"
        },
        "id": "RncezzlR4jt9",
        "outputId": "c08f29d7-b305-48bb-b005-65c8f401ea97"
      },
      "execution_count": 70,
      "outputs": [
        {
          "output_type": "stream",
          "name": "stdout",
          "text": [
            "I am Campaña, Brendon Gio C. and my student number is 202113816\n",
            "Section - OOP_58002\n"
          ]
        }
      ]
    }
  ]
}